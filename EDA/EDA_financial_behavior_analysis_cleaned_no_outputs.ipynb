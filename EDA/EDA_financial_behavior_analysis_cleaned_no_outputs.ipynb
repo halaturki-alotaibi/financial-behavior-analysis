{
  "nbformat": 4,
  "nbformat_minor": 0,
  "metadata": {
    "colab": {
      "provenance": []
    },
    "kernelspec": {
      "name": "python3",
      "display_name": "Python 3"
    },
    "language_info": {
      "name": "python"
    }
  },
  "cells": [
    {
      "cell_type": "markdown",
      "source": [
        "# Financial Behavior Analysis"
      ],
      "metadata": {
        "id": "CfKeBiPOc40U"
      }
    },
    {
      "cell_type": "markdown",
      "source": [
        "## Exploratory Data Analysis(\u064fEDA)"
      ],
      "metadata": {
        "id": "LfBvibHJdjfg"
      }
    },
    {
      "cell_type": "markdown",
      "source": [
        "**Importing  libraries**"
      ],
      "metadata": {
        "id": "iwntzAXScdVZ"
      }
    },
    {
      "cell_type": "code",
      "metadata": {
        "id": "d90479f5"
      },
      "source": [
        "%pip install ydata-profiling"
      ],
      "execution_count": null,
      "outputs": []
    },
    {
      "cell_type": "code",
      "execution_count": null,
      "metadata": {
        "id": "U3qrE70gArfB"
      },
      "outputs": [],
      "source": [
        "import pandas as pd\n",
        "import numpy as np\n",
        "import matplotlib.pyplot as plt\n",
        "import seaborn as sns\n",
        "import plotly.express as px\n",
        "import missingno as msno\n",
        "from ydata_profiling import ProfileReport\n",
        "from scipy import stats"
      ]
    },
    {
      "cell_type": "markdown",
      "source": [
        "**Load & Explore Data**"
      ],
      "metadata": {
        "id": "CdhZE4WWclV-"
      }
    },
    {
      "cell_type": "code",
      "source": [
        "df = pd.read_csv('financial_behavior_dataset.csv')\n",
        "df.head()"
      ],
      "metadata": {
        "colab": {
          "base_uri": "https://localhost:8080/",
          "height": 313
        },
        "id": "kMNOs70hByoe",
        "outputId": "f711f693-1325-451b-faf9-f9e86019df1e"
      },
      "execution_count": null,
      "outputs": []
    },
    {
      "cell_type": "code",
      "source": [
        "df.shape"
      ],
      "metadata": {
        "colab": {
          "base_uri": "https://localhost:8080/"
        },
        "id": "JgfJlvEHCrMW",
        "outputId": "60cf4b07-2b57-4277-bea6-0b1d5e32594f"
      },
      "execution_count": null,
      "outputs": []
    },
    {
      "cell_type": "code",
      "source": [
        "df.info()"
      ],
      "metadata": {
        "colab": {
          "base_uri": "https://localhost:8080/"
        },
        "id": "9PGKgwwDCXkn",
        "outputId": "abca292e-d533-48a5-83a4-9beab4799d6f"
      },
      "execution_count": null,
      "outputs": []
    },
    {
      "cell_type": "markdown",
      "source": [
        "**Clean Data**"
      ],
      "metadata": {
        "id": "EHmeBgEQgGBN"
      }
    },
    {
      "cell_type": "code",
      "source": [
        "# Convert Month to datetime\n",
        "df[\"Month\"] = pd.to_datetime(df[\"Month\"], format=\"%m-%Y\", errors=\"coerce\").dt.month"
      ],
      "metadata": {
        "id": "3ntUhX1-EjGR"
      },
      "execution_count": null,
      "outputs": []
    },
    {
      "cell_type": "code",
      "source": [
        "#Data Type Check\n",
        "print(df.dtypes)"
      ],
      "metadata": {
        "colab": {
          "base_uri": "https://localhost:8080/"
        },
        "id": "Z9QZskydf6lt",
        "outputId": "c7aad274-bbfb-4910-a1c3-3bbee083f534"
      },
      "execution_count": null,
      "outputs": []
    },
    {
      "cell_type": "code",
      "source": [
        "df.isnull().sum()"
      ],
      "metadata": {
        "colab": {
          "base_uri": "https://localhost:8080/",
          "height": 460
        },
        "id": "V8t_kfY5CyQF",
        "outputId": "bb5b956c-2e5f-4ea9-95f0-f585ca880a1a"
      },
      "execution_count": null,
      "outputs": []
    },
    {
      "cell_type": "code",
      "source": [
        "#replaces null cell with 0\n",
        "df['Savings_Amount'] = df['Savings_Amount'].fillna(0)"
      ],
      "metadata": {
        "id": "4pu02UOnDDaq"
      },
      "execution_count": null,
      "outputs": []
    },
    {
      "cell_type": "code",
      "source": [
        "df['Savings_Amount'].isnull().sum()"
      ],
      "metadata": {
        "colab": {
          "base_uri": "https://localhost:8080/"
        },
        "id": "DpYlTpeBDO3W",
        "outputId": "45d85058-39de-46ab-b728-06fede3e3d67"
      },
      "execution_count": null,
      "outputs": []
    },
    {
      "cell_type": "code",
      "source": [
        "# Duplicate rows\n",
        "df.duplicated().sum()"
      ],
      "metadata": {
        "colab": {
          "base_uri": "https://localhost:8080/"
        },
        "id": "NML3Pi65fbwu",
        "outputId": "e255d9be-a592-4084-cf55-b5e305a9c070"
      },
      "execution_count": null,
      "outputs": []
    },
    {
      "cell_type": "markdown",
      "source": [
        "**Descriptive Statistics**"
      ],
      "metadata": {
        "id": "LaAE3bxSeo-g"
      }
    },
    {
      "cell_type": "code",
      "source": [
        "df.describe()"
      ],
      "metadata": {
        "colab": {
          "base_uri": "https://localhost:8080/",
          "height": 320
        },
        "id": "bSjuSrd8CQGb",
        "outputId": "efc5af3e-65b4-4c2a-d85b-93637a27acd1"
      },
      "execution_count": null,
      "outputs": []
    },
    {
      "cell_type": "code",
      "source": [
        "# Analysis of numerical variables (such as spending and saving)\n",
        "num_cols = ['Age', 'Income', 'Total_Spending', 'Essential_Spending',\n",
        "            'Non_Essential_Spending', 'Savings_Amount',\n",
        "            'Investments_Amount', 'Debt_Payments', 'Account_Balance']\n",
        "\n",
        "df[num_cols].hist(bins=30, figsize=(15, 10))\n",
        "plt.tight_layout()\n",
        "plt.show()\n"
      ],
      "metadata": {
        "colab": {
          "base_uri": "https://localhost:8080/",
          "height": 586
        },
        "id": "cLID6KxRDQNB",
        "outputId": "0cc0cc02-f748-40f2-d3d4-ff6b737332bf"
      },
      "execution_count": null,
      "outputs": []
    },
    {
      "cell_type": "code",
      "source": [
        "#Relationships between Age,income,spending, saving, and debt\n",
        "sns.pairplot(df[num_cols])\n",
        "plt.show()"
      ],
      "metadata": {
        "colab": {
          "base_uri": "https://localhost:8080/",
          "height": 873
        },
        "id": "_7RSsEFCDjJi",
        "outputId": "0d50337f-d675-4196-c834-e6aa31c9b4ba"
      },
      "execution_count": null,
      "outputs": []
    },
    {
      "cell_type": "code",
      "source": [
        "#Distribution by gender\n",
        "sns.boxplot(x='Gender', y='Total_Spending', data=df)"
      ],
      "metadata": {
        "colab": {
          "base_uri": "https://localhost:8080/",
          "height": 471
        },
        "id": "0yRl_i-lD3tE",
        "outputId": "4832c09c-7104-4b01-a18e-66a7456104cc"
      },
      "execution_count": null,
      "outputs": []
    },
    {
      "cell_type": "code",
      "source": [
        "# Distribution by month\n",
        "sns.barplot(x='Month', y='Savings_Amount', data=df)"
      ],
      "metadata": {
        "colab": {
          "base_uri": "https://localhost:8080/",
          "height": 466
        },
        "id": "AalwZJ_qEHzU",
        "outputId": "d7088891-a5f5-41d1-e509-1c9de8c8e95c"
      },
      "execution_count": null,
      "outputs": []
    },
    {
      "cell_type": "code",
      "source": [
        "# Check the correlation\n",
        "plt.figure(figsize=(10, 6))\n",
        "sns.heatmap(df[num_cols].corr(), annot=True, cmap='coolwarm')\n",
        "plt.title(\"Correlation Heatmap\")\n",
        "plt.show()"
      ],
      "metadata": {
        "colab": {
          "base_uri": "https://localhost:8080/",
          "height": 651
        },
        "id": "yBEfrUhdE8Ij",
        "outputId": "cc0cb74d-40c1-42e2-ca3f-18046112505b"
      },
      "execution_count": null,
      "outputs": []
    },
    {
      "cell_type": "markdown",
      "source": [
        "**Derivation of indicators**"
      ],
      "metadata": {
        "id": "OWIaP_iTiCoV"
      }
    },
    {
      "cell_type": "code",
      "source": [
        "#Financial Volatility Index\n",
        "# If Spending_Volatility is high \u2192 the client is \"seasonal\" or \"random\"\n",
        "Spending_Volatility = df.groupby(\"Customer_ID\")[\"Total_Spending\"].std().reset_index()\n",
        "Spending_Volatility.columns = [\"Customer_ID\", \"Spending_Volatility\"]\n",
        "Spending_Volatility"
      ],
      "metadata": {
        "colab": {
          "base_uri": "https://localhost:8080/",
          "height": 1000
        },
        "id": "tR8-c40vIUm9",
        "outputId": "2b0bbebf-41ac-4973-dd34-b7a90bb0fd54"
      },
      "execution_count": null,
      "outputs": []
    },
    {
      "cell_type": "code",
      "source": [
        "# Savings Rate\n",
        "df[\"Savings_Rate\"] = df[\"Savings_Amount\"] / df[\"Income\"]\n",
        "df[\"Savings_Rate\"]"
      ],
      "metadata": {
        "colab": {
          "base_uri": "https://localhost:8080/",
          "height": 458
        },
        "id": "XixMR_JSIy-P",
        "outputId": "30f3a81f-46d8-43ec-bfff-8a45f3b2bba5"
      },
      "execution_count": null,
      "outputs": []
    },
    {
      "cell_type": "code",
      "source": [
        "# Investment Rate\n",
        "df[\"Investment_Rate\"] = df[\"Investments_Amount\"] / df[\"Income\"]\n",
        "df[\"Investment_Rate\"]"
      ],
      "metadata": {
        "colab": {
          "base_uri": "https://localhost:8080/",
          "height": 458
        },
        "id": "NDz3fSSWJEuZ",
        "outputId": "944a43f8-873d-4a02-dbd7-1d9ce20beee2"
      },
      "execution_count": null,
      "outputs": []
    },
    {
      "cell_type": "code",
      "source": [
        "# Debt to Income Ratio\n",
        "df[\"Debt_Ratio\"] = df[\"Debt_Payments\"] / df[\"Income\"]\n",
        "df[\"Debt_Ratio\"]"
      ],
      "metadata": {
        "colab": {
          "base_uri": "https://localhost:8080/",
          "height": 458
        },
        "id": "EIiUaabhJOqs",
        "outputId": "fae640db-9cb5-474e-faa1-97e466db3a27"
      },
      "execution_count": null,
      "outputs": []
    },
    {
      "cell_type": "code",
      "source": [
        "# Total Spending Rate\n",
        "df[\"Spending_Rate\"] = df[\"Total_Spending\"] / df[\"Income\"]\n",
        "df[\"Spending_Rate\"]"
      ],
      "metadata": {
        "colab": {
          "base_uri": "https://localhost:8080/",
          "height": 458
        },
        "id": "8-VNNG30JaIH",
        "outputId": "fe7e04af-dd49-4e26-aaff-654c1c51de1f"
      },
      "execution_count": null,
      "outputs": []
    },
    {
      "cell_type": "code",
      "source": [
        "# Merge the Spending_Volatility DataFrame with the main DataFrame only if Spending_Volatility column doesn't exist\n",
        "if \"Spending_Volatility\" not in df.columns:\n",
        "  df = pd.merge(df, Spending_Volatility, on=\"Customer_ID\", how=\"left\")\n",
        "\n",
        "# Calculate initial customer metrics\n",
        "customer_metrics = df.groupby(\"Customer_ID\")[[\"Savings_Rate\", \"Investment_Rate\", \"Debt_Ratio\", \"Spending_Volatility\", \"Spending_Rate\", \"Total_Spending\"]].mean().reset_index()\n",
        "display(customer_metrics)"
      ],
      "metadata": {
        "colab": {
          "base_uri": "https://localhost:8080/",
          "height": 1000
        },
        "id": "EYT8s7smJhMj",
        "outputId": "a99c130a-ec4d-4162-fbf0-d3722ef6954a"
      },
      "execution_count": null,
      "outputs": []
    },
    {
      "cell_type": "markdown",
      "source": [
        "**Financial Behavior Type and Financial Goal Type**"
      ],
      "metadata": {
        "id": "UZM61DkmJmzV"
      }
    },
    {
      "cell_type": "code",
      "source": [
        "\n",
        "def classify_behavior(row):\n",
        "    if row[\"Savings_Rate\"] > 0.1 and row[\"Investment_Rate\"] > 0.1:\n",
        "        return \"disciplined\"\n",
        "    elif row[\"Spending_Volatility\"] > 2000:\n",
        "        return \"volatile\"\n",
        "    elif row[\"Savings_Rate\"] < 0.05 and row[\"Investment_Rate\"] < 0.05:\n",
        "        return \"spender\"\n",
        "    else:\n",
        "        return \"unclassified\"\n",
        "customer_metrics[\"Behavior_Type\"] = customer_metrics.apply(classify_behavior, axis=1)\n"
      ],
      "metadata": {
        "id": "KJTOgI_lKNvf"
      },
      "execution_count": null,
      "outputs": []
    },
    {
      "cell_type": "code",
      "source": [
        "def classify_goal(row):\n",
        "    if row[\"Savings_Rate\"] > 0.10 and row[\"Investment_Rate\"] < 0.05:\n",
        "        return \"Saver\"\n",
        "    elif row[\"Investment_Rate\"] > 0.1:\n",
        "        return \"Investor\"\n",
        "    else:\n",
        "        return \"Spender\"\n",
        "customer_metrics[\"Financial_Goal\"] = customer_metrics.apply(classify_goal, axis=1)"
      ],
      "metadata": {
        "id": "J1gN8OAmK4Qd"
      },
      "execution_count": null,
      "outputs": []
    },
    {
      "cell_type": "code",
      "source": [
        "display(customer_metrics)"
      ],
      "metadata": {
        "colab": {
          "base_uri": "https://localhost:8080/",
          "height": 1000
        },
        "id": "0bpHko7_LZn5",
        "outputId": "b861dec6-6187-4a61-a0c9-7f75cdceca4f"
      },
      "execution_count": null,
      "outputs": []
    },
    {
      "cell_type": "code",
      "source": [
        "plt.figure(figsize=(8, 5))\n",
        "sns.countplot(x='Behavior_Type', data=customer_metrics, order=customer_metrics[\"Behavior_Type\"].value_counts().index)\n",
        "plt.title(\"Client Distribution by Financial Behavior\")\n",
        "plt.xlabel(\"Financial behavior \")\n",
        "plt.ylabel(\"Number of clients\")\n",
        "plt.xticks(rotation=45)\n",
        "plt.tight_layout()\n",
        "plt.show()"
      ],
      "metadata": {
        "colab": {
          "base_uri": "https://localhost:8080/",
          "height": 507
        },
        "id": "dfdJ_wblL6Mf",
        "outputId": "3e5ebe70-85ac-4f46-8b56-7cedd3fa57a2"
      },
      "execution_count": null,
      "outputs": []
    },
    {
      "cell_type": "code",
      "source": [
        "plt.figure(figsize=(6, 6))\n",
        "customer_metrics[\"Behavior_Type\"].value_counts().plot.pie(autopct='%1.1f%%', startangle=90)\n",
        "plt.title(\"The percentage of each type of financial behavior\")\n",
        "plt.ylabel(\"\")  # Hide sidebar\n",
        "plt.show()\n"
      ],
      "metadata": {
        "colab": {
          "base_uri": "https://localhost:8080/",
          "height": 521
        },
        "id": "-jLHSI5eNMk7",
        "outputId": "aa29a7d0-c5cb-4a34-9d7a-667e0a2aa7a4"
      },
      "execution_count": null,
      "outputs": []
    },
    {
      "cell_type": "code",
      "source": [
        "plt.figure(figsize=(8, 5))\n",
        "sns.countplot(x='Financial_Goal', data=customer_metrics, order=customer_metrics[\"Financial_Goal\"].value_counts().index)\n",
        "plt.title(\"Number of clients by financial goal\")\n",
        "plt.xlabel(\"financial goal\")\n",
        "plt.ylabel(\"Number of clients\")\n",
        "plt.xticks(rotation=45)\n",
        "plt.tight_layout()\n",
        "plt.show()"
      ],
      "metadata": {
        "colab": {
          "base_uri": "https://localhost:8080/",
          "height": 507
        },
        "id": "ln6kb-eWOb1D",
        "outputId": "fb46b71e-d391-4f45-f3f8-1a470b6a484c"
      },
      "execution_count": null,
      "outputs": []
    },
    {
      "cell_type": "code",
      "source": [
        "plt.figure(figsize=(6, 6))\n",
        "customer_metrics[\"Financial_Goal\"].value_counts().plot.pie(autopct='%1.1f%%', startangle=90)\n",
        "plt.title(\"The percentage of each financial goal\")\n",
        "plt.ylabel(\"\")  # Hide sidebar\n",
        "plt.show()"
      ],
      "metadata": {
        "colab": {
          "base_uri": "https://localhost:8080/",
          "height": 521
        },
        "id": "ViMe0LTNOuWy",
        "outputId": "5b178c97-26d1-4e47-d269-a2943288616a"
      },
      "execution_count": null,
      "outputs": []
    },
    {
      "cell_type": "code",
      "source": [
        "#Average spending by behavior\n",
        "plt.figure(figsize=(10, 6))\n",
        "sns.barplot(x=customer_metrics['Behavior_Type'], y=df['Total_Spending'], data=df, estimator='mean')\n",
        "plt.title(\"Average spending by financial behavior\")\n",
        "plt.xlabel(\"Financial behavior\")\n",
        "plt.ylabel(\"Average spending\")\n",
        "plt.xticks(rotation=45)\n",
        "plt.tight_layout()\n",
        "plt.show()\n"
      ],
      "metadata": {
        "colab": {
          "base_uri": "https://localhost:8080/",
          "height": 528
        },
        "id": "nd6WWUu-ZSHv",
        "outputId": "d5d8b50e-7114-45db-837f-026b35ae4cd4"
      },
      "execution_count": null,
      "outputs": []
    },
    {
      "cell_type": "code",
      "source": [
        "#Comparing behavior with financial goals\n",
        "plt.figure(figsize=(10, 6))\n",
        "sns.countplot(x=\"Behavior_Type\", hue='Financial_Goal', data=customer_metrics, order=customer_metrics[\"Behavior_Type\"].value_counts().index)\n",
        "plt.title(\"Distributing financial goals according to behavioral\")\n",
        "plt.xlabel(\"financial behavior\")\n",
        "plt.ylabel(\"Number of clients\")\n",
        "plt.xticks(rotation=45)\n",
        "plt.legend(title='financial goals')\n",
        "plt.tight_layout()\n",
        "plt.show()"
      ],
      "metadata": {
        "colab": {
          "base_uri": "https://localhost:8080/",
          "height": 528
        },
        "id": "MvCTFrHTSWzJ",
        "outputId": "1498e9e7-e514-4820-ad75-56550067ac1d"
      },
      "execution_count": null,
      "outputs": []
    },
    {
      "cell_type": "code",
      "source": [
        "df = df.drop(columns=['Spending_Volatility_y', 'Spending_Volatility_x'])"
      ],
      "metadata": {
        "id": "tOsl5kEFXdHz"
      },
      "execution_count": null,
      "outputs": []
    },
    {
      "cell_type": "markdown",
      "source": [
        "**Save the customer classification to csv**"
      ],
      "metadata": {
        "id": "OW5dJehPnnCK"
      }
    },
    {
      "cell_type": "code",
      "source": [
        "# save the customer classification to CSV file\n",
        "customer_metrics.to_csv(\"customer_classification_data.csv\", index=False)"
      ],
      "metadata": {
        "id": "NEvfPpsjR0hT"
      },
      "execution_count": null,
      "outputs": []
    },
    {
      "cell_type": "markdown",
      "source": [
        "**Generate report**"
      ],
      "metadata": {
        "id": "Ho_5cYMpnw--"
      }
    },
    {
      "cell_type": "code",
      "source": [
        "# Generate a quick, comprehensive automated report\n",
        "profile = ProfileReport(df, title=\"EDA Report\", explorative=True)\n",
        "profile.to_file(\"eda_report.html\")"
      ],
      "metadata": {
        "colab": {
          "base_uri": "https://localhost:8080/",
          "height": 529,
          "referenced_widgets": [
            "fb8932d3fbe04a5aa7d34114a893ff19",
            "6c1ef813a5234d7e920067d964069257",
            "52926ca398e24dfc9b032ce7b1bdcf4b",
            "b74c334f1b8d4e00992370d774c5318f",
            "e2aa548a0e4546229fc4de41d2b44bb9",
            "ac8a0c3360e14085a80bbaec7351660c",
            "00786cac556743d9ab122d0279834edc",
            "38dae2d7c8234e34b4bbf137f0086450",
            "4ecab4473ded49dba9297dcbada9d17d",
            "dff13c2aefae47718291302df0981c02",
            "5eef9bd518ba4dab928c18366efbef7c",
            "756f92c0ba154fbf87a4112d1656e360",
            "c4c76a82b2d04f29bc45de2c4c1e7cf0",
            "7c71a642746b4199b9357586c6e6b7de",
            "527c1d69e45249f6b0752c6d1979d5ea",
            "42490bacc6404134bc9ab9999916f9df",
            "389c14ba747e4255841f1dca986c8348",
            "29ddace7450f4e8fb314ccda12214394",
            "00ce3d1469df4f16b7c2061139ba6668",
            "1294e29df95748ccb89a8bf071ec9a57",
            "9220bde6b7604fa49a76764fae7dd6a5",
            "d571fad45556458e8c8b3be46e445cce",
            "ccc7ac03b4b44f2b993f2f5c6b3e2d4f",
            "1e1e2e06a44449198a43d28025b1d244",
            "270a1ea9d7fe4b5a8d96692006fbbcd3",
            "825a24280d2143e3bb91dd58d718570d",
            "369204d75896411e82422df71be7a4f6",
            "d6b9146c9bbf4f8caf5a89e4d832ee4c",
            "9addf2c4bdaf40c382c24530615b6222",
            "d219949d87844c41b93e4e94bacbb941",
            "a6ab877b7adc44c298000d2c636150a4",
            "c7c70ec77d304770ac1fb0f62e6bc125",
            "10fa8feea3874649a459970a6205a5d1",
            "dee8fc96e43a4423b16f53f9f4d5bff1",
            "64cdddf64fe44e47be2d0529965867ca",
            "3f85a24da2ac4d2283ea581540cb2593",
            "29ac2cfeb1074809b40101ff9688cc57",
            "292c7e6005c245a998f32b6afd13a0a1",
            "0805ab3867c442f29d41d5d489a30019",
            "d860aaf0bdd843a0aebf64db3956ee48",
            "9279963c15694cc38671dc379770e120",
            "8af779de3b2c4778a1e2fe29f09800b4",
            "694195b78f2d4e58924050a13cd2ba81",
            "9693d602d9544d359984473d24b913c5"
          ]
        },
        "id": "g4LBvgQRPDYC",
        "outputId": "7af9eb77-65d6-49bf-d8ea-3811fe4af3e8"
      },
      "execution_count": null,
      "outputs": []
    }
  ]
}